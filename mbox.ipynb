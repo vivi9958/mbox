{
 "cells": [
  {
   "cell_type": "code",
   "execution_count": 6,
   "id": "69a5b7eb",
   "metadata": {},
   "outputs": [
    {
     "name": "stdout",
     "output_type": "stream",
     "text": [
      "Enter file name: mbox.txt\n",
      "iupui.edu 8\n",
      "umich.edu 7\n",
      "uct.ac.za 6\n",
      "media.berkeley.edu 4\n",
      "caret.cam.ac.uk 1\n",
      "gmail.com 1\n"
     ]
    }
   ],
   "source": [
    "import sqlite3\n",
    "\n",
    "connection = sqlite3.connect('emaildb2.sqlite')\n",
    "cur = connection.cursor()\n",
    "\n",
    "cur.execute('''\n",
    "DROP TABLE IF EXISTS Counts''')\n",
    "\n",
    "cur.execute('''\n",
    "CREATE TABLE Counts (org TEXT, count INTEGER)''')\n",
    "\n",
    "fname = input('Enter file name: ')\n",
    "if (len(fname) < 1): fname = 'mbox.txt'\n",
    "fh = open(fname)\n",
    "list_1 =[]\n",
    "for line in fh:\n",
    "    if not line.startswith('From: '): continue\n",
    "    pieces = line.split()\n",
    "    email = pieces[1]\n",
    "    dom = email.find('@')\n",
    "    org = email[dom+1:len(email)]\n",
    "\n",
    "    cur.execute('SELECT count FROM Counts WHERE org = ? ', (org,))\n",
    "    row = cur.fetchone()\n",
    "    if row is None:\n",
    "        cur.execute('''INSERT INTO Counts (org, count)\n",
    "                VALUES (?, 1)''', (org,))\n",
    "    else:\n",
    "        cur.execute('UPDATE Counts SET count = count + 1 WHERE org = ?',\n",
    "                    (org,))\n",
    "conn.commit()\n",
    "\n",
    "sqlstr = 'SELECT org, count FROM Counts ORDER BY count DESC LIMIT 10'\n",
    "\n",
    "for row in cur.execute(sqlstr):\n",
    "    print(str(row[0]), row[1])\n",
    "\n",
    "cur.close()"
   ]
  },
  {
   "cell_type": "code",
   "execution_count": null,
   "id": "82fd62fd",
   "metadata": {},
   "outputs": [],
   "source": []
  }
 ],
 "metadata": {
  "kernelspec": {
   "display_name": "Python 3 (ipykernel)",
   "language": "python",
   "name": "python3"
  },
  "language_info": {
   "codemirror_mode": {
    "name": "ipython",
    "version": 3
   },
   "file_extension": ".py",
   "mimetype": "text/x-python",
   "name": "python",
   "nbconvert_exporter": "python",
   "pygments_lexer": "ipython3",
   "version": "3.11.4"
  }
 },
 "nbformat": 4,
 "nbformat_minor": 5
}
